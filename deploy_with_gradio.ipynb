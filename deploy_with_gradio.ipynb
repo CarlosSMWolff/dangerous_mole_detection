{
 "cells": [
  {
   "cell_type": "code",
   "execution_count": null,
   "metadata": {},
   "outputs": [],
   "source": []
  }
 ],
 "metadata": {
  "kernelspec": {
   "display_name": "Python 3.9.12 ('TFVenv')",
   "language": "python",
   "name": "python3"
  },
  "language_info": {
   "name": "python",
   "version": "3.9.12"
  },
  "orig_nbformat": 4,
  "vscode": {
   "interpreter": {
    "hash": "e1ed7f188727b614115b3a3f0f4afa5bad76c2aa40b7503bab1b7f444d1a287c"
   }
  }
 },
 "nbformat": 4,
 "nbformat_minor": 2
}
